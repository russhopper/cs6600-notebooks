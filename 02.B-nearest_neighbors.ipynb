{
 "cells": [
  {
   "cell_type": "markdown",
   "metadata": {},
   "source": [
    "# 02.B: Nearest neighbors classifiers"
   ]
  },
  {
   "cell_type": "code",
   "execution_count": 78,
   "metadata": {},
   "outputs": [],
   "source": [
    "%matplotlib inline\n",
    "\n",
    "import math\n",
    "import numpy as np\n",
    "import pandas as pd\n",
    "import matplotlib.pyplot as plt\n",
    "import mylib as my"
   ]
  },
  {
   "cell_type": "markdown",
   "metadata": {},
   "source": [
    "## Nearest Neighbor (NN)\n",
    "Given and dataset $\\boldsymbol{D} = [\\boldsymbol{X}\\ \\ \\boldsymbol{y}]$ and an unseen example $\\boldsymbol{x}$, this classifier:\n",
    "* calculates the distances between $\\boldsymbol{x}$ and every example in $\\boldsymbol{D}$. Using the Euclidean distance, we have:\n",
    "    $$\n",
    "      distance(\\boldsymbol{x^{(a)}}, \\boldsymbol{x^{(b)}}) = \\Vert\\boldsymbol{x^{(a)}} - \\boldsymbol{x^{(b)}}\\Vert_2 = \\sqrt{\\sum_{i = 1}^{m} (x_i^{(a)} - x_i^{(b)})^2}\n",
    "    $$\n",
    "* finds the example that is nearest to X and return its $y$ \n",
    "\n",
    "Here is a class implementing this classifier"
   ]
  },
  {
   "cell_type": "code",
   "execution_count": 79,
   "metadata": {},
   "outputs": [],
   "source": [
    "class NearestNeighborClassifier:\n",
    "    def __init__(self, dataset):\n",
    "        self.ds = dataset\n",
    "        \n",
    "    def calc_distance(self, x, y):\n",
    "        distance = 0.0\n",
    "        for i in np.arange(len(x)):\n",
    "            distance += (x[i] - y[i])**2\n",
    "                \n",
    "        return math.sqrt(distance)\n",
    "    \n",
    "    def predict(self, unseen):\n",
    "        if unseen.ndim == 1:\n",
    "            distances = np.full(self.ds.N, 0.0)\n",
    "            for i, ex in enumerate(self.ds.inputs):\n",
    "                distances[i] = self.calc_distance(unseen, ex)\n",
    "\n",
    "            return self.ds.target[distances.argmin()]\n",
    "        else:\n",
    "            return np.array([self.predict(ex) for ex in unseen])"
   ]
  },
  {
   "cell_type": "markdown",
   "metadata": {},
   "source": [
    "## An example\n",
    "Let's quickly test this. Here a sample dataset with three classes:"
   ]
  },
  {
   "cell_type": "code",
   "execution_count": 80,
   "metadata": {},
   "outputs": [],
   "source": [
    "basis = np.array([[3, 14],[4, 4],[10, 9]])\n",
    "a_ = np.concatenate((\n",
    "        basis[0,0] + np.random.normal(loc=1, scale=2.5, size=(50, 1)), \n",
    "        basis[0, 1] + np.random.normal(loc=1, scale=2.6, size=(50, 1)), \n",
    "        np.full(50, 0).reshape(50,1)), axis= 1)\n",
    "\n",
    "b_ = np.concatenate((\n",
    "        basis[1,0] + np.random.normal(loc=.8, scale=2.5, size=(50, 1)), \n",
    "        basis[1, 1] + np.random.normal(loc=.8, scale=2.4, size=(50, 1)), \n",
    "        np.full(50, 1).reshape(50,1)), axis= 1)\n",
    "\n",
    "c_ = np.concatenate((\n",
    "        basis[2,0] + np.random.normal(loc=.5, scale=2.5, size=(50, 1)), \n",
    "        basis[2, 1] + np.random.normal(loc=.5, scale=2.6, size=(50, 1)), \n",
    "        np.full(50, 2).reshape(50,1)), axis= 1)"
   ]
  },
  {
   "cell_type": "code",
   "execution_count": 81,
   "metadata": {},
   "outputs": [
    {
     "data": {
      "text/plain": [
       "array([[1, 2, 5, 6],\n",
       "       [3, 4, 7, 8]])"
      ]
     },
     "execution_count": 81,
     "metadata": {},
     "output_type": "execute_result"
    }
   ],
   "source": [
    "# trying out the concatenate function to better understand it\n",
    "np.concatenate((np.array([[1,2],[3,4]]), np.array([[5,6],[7,8]])), axis=1)"
   ]
  },
  {
   "cell_type": "markdown",
   "metadata": {},
   "source": [
    "which looks like this:"
   ]
  },
  {
   "cell_type": "code",
   "execution_count": 82,
   "metadata": {},
   "outputs": [
    {
     "data": {
      "text/plain": [
       "Text(0.5, 1.0, 'Samle three classes data')"
      ]
     },
     "execution_count": 82,
     "metadata": {},
     "output_type": "execute_result"
    },
    {
     "data": {
      "image/png": "[encoded data removed]",
      "text/plain": [
       "<Figure size 1152x648 with 1 Axes>"
      ]
     },
     "metadata": {
      "needs_background": "light"
     },
     "output_type": "display_data"
    }
   ],
   "source": [
    "plt.figure(figsize=(16,9))\n",
    "plt.scatter(a_[:, 0], a_[:, 1], color='red', marker='x', label='A')\n",
    "plt.scatter(b_[:, 0], b_[:, 1], color='blue', marker='+', label='B')\n",
    "plt.scatter(c_[:, 0], c_[:, 1], color='green', marker='^', label='C')\n",
    "\n",
    "plt.legend(loc='best')\n",
    "plt.title('Samle three classes data')"
   ]
  },
  {
   "cell_type": "markdown",
   "metadata": {},
   "source": [
    "Let's put this data into a dataset and split it into a training and test sets."
   ]
  },
  {
   "cell_type": "code",
   "execution_count": 83,
   "metadata": {},
   "outputs": [],
   "source": [
    "data = pd.DataFrame(np.concatenate([a_, b_, c_], axis=0), columns=['x1', 'x2', 't'])\n",
    "ds = my.DataSet(data, y=True) # y=True means the right-most column is the target of data\n",
    "train, test = ds.train_test_split(test_portion=.33, shuffle=True)"
   ]
  },
  {
   "cell_type": "markdown",
   "metadata": {},
   "source": [
    "Let's train this classifier and print its output on the training set side by side with the actual training labels."
   ]
  },
  {
   "cell_type": "code",
   "execution_count": 84,
   "metadata": {
    "scrolled": false
   },
   "outputs": [
    {
     "data": {
      "text/html": [
       "<div>\n",
       "<style scoped>\n",
       "    .dataframe tbody tr th:only-of-type {\n",
       "        vertical-align: middle;\n",
       "    }\n",
       "\n",
       "    .dataframe tbody tr th {\n",
       "        vertical-align: top;\n",
       "    }\n",
       "\n",
       "    .dataframe thead th {\n",
       "        text-align: right;\n",
       "    }\n",
       "</style>\n",
       "<table border=\"1\" class=\"dataframe\">\n",
       "  <thead>\n",
       "    <tr style=\"text-align: right;\">\n",
       "      <th></th>\n",
       "      <th>Actual</th>\n",
       "      <th>Predicted</th>\n",
       "    </tr>\n",
       "  </thead>\n",
       "  <tbody>\n",
       "    <tr>\n",
       "      <th>0</th>\n",
       "      <td>2.0</td>\n",
       "      <td>2.0</td>\n",
       "    </tr>\n",
       "    <tr>\n",
       "      <th>1</th>\n",
       "      <td>1.0</td>\n",
       "      <td>1.0</td>\n",
       "    </tr>\n",
       "    <tr>\n",
       "      <th>2</th>\n",
       "      <td>0.0</td>\n",
       "      <td>0.0</td>\n",
       "    </tr>\n",
       "    <tr>\n",
       "      <th>3</th>\n",
       "      <td>0.0</td>\n",
       "      <td>0.0</td>\n",
       "    </tr>\n",
       "    <tr>\n",
       "      <th>4</th>\n",
       "      <td>0.0</td>\n",
       "      <td>0.0</td>\n",
       "    </tr>\n",
       "  </tbody>\n",
       "</table>\n",
       "</div>"
      ],
      "text/plain": [
       "   Actual  Predicted\n",
       "0     2.0        2.0\n",
       "1     1.0        1.0\n",
       "2     0.0        0.0\n",
       "3     0.0        0.0\n",
       "4     0.0        0.0"
      ]
     },
     "execution_count": 84,
     "metadata": {},
     "output_type": "execute_result"
    }
   ],
   "source": [
    "nn = NearestNeighborClassifier(train)\n",
    "\n",
    "results = pd.DataFrame(columns=[\"Actual\", \"Predicted\"])\n",
    "\n",
    "results[\"Actual\"] = train.target.flatten()\n",
    "results[\"Predicted\"] = nn.predict(train.inputs)\n",
    "results.head()"
   ]
  },
  {
   "cell_type": "markdown",
   "metadata": {},
   "source": [
    "Here is the corresponding confusion matrix and accuracy."
   ]
  },
  {
   "cell_type": "code",
   "execution_count": 85,
   "metadata": {},
   "outputs": [
    {
     "name": "stdout",
     "output_type": "stream",
     "text": [
      "[[32  0  0]\n",
      " [ 0 34  0]\n",
      " [ 0  0 35]]\n",
      "Train accuracy:  1.0\n"
     ]
    }
   ],
   "source": [
    "cm = my.confusion_matrix(train.target, nn.predict(train.inputs))\n",
    "accuracy = np.trace(cm) / np.sum(cm) # trace gives diagonal sum and sum is sum of all nums in matrix\n",
    "print(cm)\n",
    "print('Train accuracy: ', accuracy)"
   ]
  },
  {
   "cell_type": "markdown",
   "metadata": {},
   "source": [
    "This is a perfect accuracy which corresponds to a training error of $\\boldsymbol{E}_{train} = 0$. This is not necessarily a good thing. **Why?** Maybe this is because the algorithm is too rigid and biased and has created a model that only works on the data it trained with.\n",
    "\n",
    "Let's see how this trained model performs on the unseen test set. "
   ]
  },
  {
   "cell_type": "code",
   "execution_count": 86,
   "metadata": {},
   "outputs": [
    {
     "data": {
      "text/html": [
       "<div>\n",
       "<style scoped>\n",
       "    .dataframe tbody tr th:only-of-type {\n",
       "        vertical-align: middle;\n",
       "    }\n",
       "\n",
       "    .dataframe tbody tr th {\n",
       "        vertical-align: top;\n",
       "    }\n",
       "\n",
       "    .dataframe thead th {\n",
       "        text-align: right;\n",
       "    }\n",
       "</style>\n",
       "<table border=\"1\" class=\"dataframe\">\n",
       "  <thead>\n",
       "    <tr style=\"text-align: right;\">\n",
       "      <th></th>\n",
       "      <th>Actual</th>\n",
       "      <th>Predicted</th>\n",
       "    </tr>\n",
       "  </thead>\n",
       "  <tbody>\n",
       "    <tr>\n",
       "      <th>0</th>\n",
       "      <td>0.0</td>\n",
       "      <td>0.0</td>\n",
       "    </tr>\n",
       "    <tr>\n",
       "      <th>1</th>\n",
       "      <td>2.0</td>\n",
       "      <td>2.0</td>\n",
       "    </tr>\n",
       "    <tr>\n",
       "      <th>2</th>\n",
       "      <td>0.0</td>\n",
       "      <td>0.0</td>\n",
       "    </tr>\n",
       "    <tr>\n",
       "      <th>3</th>\n",
       "      <td>0.0</td>\n",
       "      <td>0.0</td>\n",
       "    </tr>\n",
       "    <tr>\n",
       "      <th>4</th>\n",
       "      <td>1.0</td>\n",
       "      <td>1.0</td>\n",
       "    </tr>\n",
       "    <tr>\n",
       "      <th>5</th>\n",
       "      <td>0.0</td>\n",
       "      <td>0.0</td>\n",
       "    </tr>\n",
       "    <tr>\n",
       "      <th>6</th>\n",
       "      <td>0.0</td>\n",
       "      <td>0.0</td>\n",
       "    </tr>\n",
       "    <tr>\n",
       "      <th>7</th>\n",
       "      <td>2.0</td>\n",
       "      <td>2.0</td>\n",
       "    </tr>\n",
       "    <tr>\n",
       "      <th>8</th>\n",
       "      <td>0.0</td>\n",
       "      <td>0.0</td>\n",
       "    </tr>\n",
       "    <tr>\n",
       "      <th>9</th>\n",
       "      <td>0.0</td>\n",
       "      <td>0.0</td>\n",
       "    </tr>\n",
       "  </tbody>\n",
       "</table>\n",
       "</div>"
      ],
      "text/plain": [
       "   Actual  Predicted\n",
       "0     0.0        0.0\n",
       "1     2.0        2.0\n",
       "2     0.0        0.0\n",
       "3     0.0        0.0\n",
       "4     1.0        1.0\n",
       "5     0.0        0.0\n",
       "6     0.0        0.0\n",
       "7     2.0        2.0\n",
       "8     0.0        0.0\n",
       "9     0.0        0.0"
      ]
     },
     "execution_count": 86,
     "metadata": {},
     "output_type": "execute_result"
    }
   ],
   "source": [
    "results = pd.DataFrame(columns=[\"Actual\", \"Predicted\"])\n",
    "\n",
    "results[\"Actual\"] = test.target.flatten()\n",
    "results[\"Predicted\"] = nn.predict(test.inputs)\n",
    "results.head(10)"
   ]
  },
  {
   "cell_type": "markdown",
   "metadata": {},
   "source": [
    "Here is the corresponding confusion matrix and accuracy."
   ]
  },
  {
   "cell_type": "code",
   "execution_count": 87,
   "metadata": {
    "scrolled": true
   },
   "outputs": [
    {
     "name": "stdout",
     "output_type": "stream",
     "text": [
      "[[18  0  0]\n",
      " [ 0 16  0]\n",
      " [ 1  1 13]]\n",
      "Test accuracy:  0.9591836734693877\n"
     ]
    }
   ],
   "source": [
    "cm = my.confusion_matrix(test.target, nn.predict(test.inputs))\n",
    "accuracy = np.trace(cm) / np.sum(cm)\n",
    "\n",
    "print(cm)\n",
    "print('Test accuracy: ', accuracy)"
   ]
  },
  {
   "cell_type": "markdown",
   "metadata": {},
   "source": [
    "Here are the decision regions of this trained model with both the training examples and the test examples side by side. **Uncomment the `%%timeit` command to see how long it takes to produce these plots and get a feeling of how computationally expensive the NN classifier can be.** Keep in mind that `%%timeit` will run your code multiple times to get a more accurate measure of how long it took. So it may take a while to finish."
   ]
  },
  {
   "cell_type": "code",
   "execution_count": 77,
   "metadata": {
    "scrolled": false
   },
   "outputs": [
    {
     "ename": "KeyboardInterrupt",
     "evalue": "",
     "output_type": "error",
     "traceback": [
      "\u001b[1;31m---------------------------------------------------------------------------\u001b[0m",
      "\u001b[1;31mKeyboardInterrupt\u001b[0m                         Traceback (most recent call last)",
      "\u001b[1;32m<ipython-input-77-6d48938f7b3e>\u001b[0m in \u001b[0;36m<module>\u001b[1;34m\u001b[0m\n\u001b[0;32m      2\u001b[0m \u001b[0mfig\u001b[0m \u001b[1;33m=\u001b[0m \u001b[0mplt\u001b[0m\u001b[1;33m.\u001b[0m\u001b[0mfigure\u001b[0m\u001b[1;33m(\u001b[0m\u001b[0mfigsize\u001b[0m\u001b[1;33m=\u001b[0m\u001b[1;33m(\u001b[0m\u001b[1;36m16\u001b[0m\u001b[1;33m,\u001b[0m\u001b[1;36m9\u001b[0m\u001b[1;33m)\u001b[0m\u001b[1;33m)\u001b[0m\u001b[1;33m\u001b[0m\u001b[1;33m\u001b[0m\u001b[0m\n\u001b[0;32m      3\u001b[0m \u001b[0max\u001b[0m \u001b[1;33m=\u001b[0m \u001b[0mfig\u001b[0m\u001b[1;33m.\u001b[0m\u001b[0madd_subplot\u001b[0m\u001b[1;33m(\u001b[0m\u001b[1;36m1\u001b[0m\u001b[1;33m,\u001b[0m\u001b[1;36m2\u001b[0m\u001b[1;33m,\u001b[0m\u001b[1;36m1\u001b[0m\u001b[1;33m)\u001b[0m\u001b[1;33m\u001b[0m\u001b[1;33m\u001b[0m\u001b[0m\n\u001b[1;32m----> 4\u001b[1;33m \u001b[0mmy\u001b[0m\u001b[1;33m.\u001b[0m\u001b[0mplot_decision_regions\u001b[0m\u001b[1;33m(\u001b[0m\u001b[0mtrain\u001b[0m\u001b[1;33m.\u001b[0m\u001b[0minputs\u001b[0m\u001b[1;33m,\u001b[0m \u001b[0mtrain\u001b[0m\u001b[1;33m.\u001b[0m\u001b[0mtarget\u001b[0m\u001b[1;33m,\u001b[0m \u001b[0mnn\u001b[0m\u001b[1;33m,\u001b[0m \u001b[0mtitle\u001b[0m\u001b[1;33m=\u001b[0m\u001b[1;34m\"Training decision regions\"\u001b[0m\u001b[1;33m,\u001b[0m \u001b[0max\u001b[0m\u001b[1;33m=\u001b[0m\u001b[0max\u001b[0m\u001b[1;33m)\u001b[0m\u001b[1;33m\u001b[0m\u001b[1;33m\u001b[0m\u001b[0m\n\u001b[0m\u001b[0;32m      5\u001b[0m \u001b[0max\u001b[0m \u001b[1;33m=\u001b[0m \u001b[0mfig\u001b[0m\u001b[1;33m.\u001b[0m\u001b[0madd_subplot\u001b[0m\u001b[1;33m(\u001b[0m\u001b[1;36m1\u001b[0m\u001b[1;33m,\u001b[0m\u001b[1;36m2\u001b[0m\u001b[1;33m,\u001b[0m\u001b[1;36m2\u001b[0m\u001b[1;33m)\u001b[0m\u001b[1;33m\u001b[0m\u001b[1;33m\u001b[0m\u001b[0m\n\u001b[0;32m      6\u001b[0m \u001b[0mmy\u001b[0m\u001b[1;33m.\u001b[0m\u001b[0mplot_decision_regions\u001b[0m\u001b[1;33m(\u001b[0m\u001b[0mtest\u001b[0m\u001b[1;33m.\u001b[0m\u001b[0minputs\u001b[0m\u001b[1;33m,\u001b[0m \u001b[0mtest\u001b[0m\u001b[1;33m.\u001b[0m\u001b[0mtarget\u001b[0m\u001b[1;33m,\u001b[0m \u001b[0mnn\u001b[0m\u001b[1;33m,\u001b[0m \u001b[0mtitle\u001b[0m\u001b[1;33m=\u001b[0m\u001b[1;34m\"Test decision regions\"\u001b[0m\u001b[1;33m,\u001b[0m \u001b[0max\u001b[0m\u001b[1;33m=\u001b[0m\u001b[0max\u001b[0m\u001b[1;33m)\u001b[0m\u001b[1;33m\u001b[0m\u001b[1;33m\u001b[0m\u001b[0m\n",
      "\u001b[1;32m~\\Documents\\GitHub\\cs6600\\cs6600-notebooks\\mylib\\decision_regions.py\u001b[0m in \u001b[0;36mplot_decision_regions\u001b[1;34m(X, y, learner, resolution, title, ax)\u001b[0m\n\u001b[0;32m     21\u001b[0m     xx, yy = np.meshgrid(np.arange(x_min, x_max, resolution),\n\u001b[0;32m     22\u001b[0m                          np.arange(y_min, y_max, resolution))\n\u001b[1;32m---> 23\u001b[1;33m     \u001b[0mZ\u001b[0m \u001b[1;33m=\u001b[0m \u001b[0mlearner\u001b[0m\u001b[1;33m.\u001b[0m\u001b[0mpredict\u001b[0m\u001b[1;33m(\u001b[0m\u001b[0mnp\u001b[0m\u001b[1;33m.\u001b[0m\u001b[0marray\u001b[0m\u001b[1;33m(\u001b[0m\u001b[1;33m[\u001b[0m\u001b[0mxx\u001b[0m\u001b[1;33m.\u001b[0m\u001b[0mravel\u001b[0m\u001b[1;33m(\u001b[0m\u001b[1;33m)\u001b[0m\u001b[1;33m,\u001b[0m \u001b[0myy\u001b[0m\u001b[1;33m.\u001b[0m\u001b[0mravel\u001b[0m\u001b[1;33m(\u001b[0m\u001b[1;33m)\u001b[0m\u001b[1;33m]\u001b[0m\u001b[1;33m)\u001b[0m\u001b[1;33m.\u001b[0m\u001b[0mT\u001b[0m\u001b[1;33m)\u001b[0m\u001b[1;33m\u001b[0m\u001b[1;33m\u001b[0m\u001b[0m\n\u001b[0m\u001b[0;32m     24\u001b[0m \u001b[1;33m\u001b[0m\u001b[0m\n\u001b[0;32m     25\u001b[0m     \u001b[1;31m# Put the result into a color plot\u001b[0m\u001b[1;33m\u001b[0m\u001b[1;33m\u001b[0m\u001b[1;33m\u001b[0m\u001b[0m\n",
      "\u001b[1;32m<ipython-input-68-59ab113ba7ce>\u001b[0m in \u001b[0;36mpredict\u001b[1;34m(self, unseen)\u001b[0m\n\u001b[0;32m     18\u001b[0m             \u001b[1;32mreturn\u001b[0m \u001b[0mself\u001b[0m\u001b[1;33m.\u001b[0m\u001b[0mds\u001b[0m\u001b[1;33m.\u001b[0m\u001b[0mtarget\u001b[0m\u001b[1;33m[\u001b[0m\u001b[0mdistances\u001b[0m\u001b[1;33m.\u001b[0m\u001b[0margmin\u001b[0m\u001b[1;33m(\u001b[0m\u001b[1;33m)\u001b[0m\u001b[1;33m]\u001b[0m\u001b[1;33m\u001b[0m\u001b[1;33m\u001b[0m\u001b[0m\n\u001b[0;32m     19\u001b[0m         \u001b[1;32melse\u001b[0m\u001b[1;33m:\u001b[0m\u001b[1;33m\u001b[0m\u001b[1;33m\u001b[0m\u001b[0m\n\u001b[1;32m---> 20\u001b[1;33m             \u001b[1;32mreturn\u001b[0m \u001b[0mnp\u001b[0m\u001b[1;33m.\u001b[0m\u001b[0marray\u001b[0m\u001b[1;33m(\u001b[0m\u001b[1;33m[\u001b[0m\u001b[0mself\u001b[0m\u001b[1;33m.\u001b[0m\u001b[0mpredict\u001b[0m\u001b[1;33m(\u001b[0m\u001b[0mex\u001b[0m\u001b[1;33m)\u001b[0m \u001b[1;32mfor\u001b[0m \u001b[0mex\u001b[0m \u001b[1;32min\u001b[0m \u001b[0munseen\u001b[0m\u001b[1;33m]\u001b[0m\u001b[1;33m)\u001b[0m\u001b[1;33m\u001b[0m\u001b[1;33m\u001b[0m\u001b[0m\n\u001b[0m",
      "\u001b[1;32m<ipython-input-68-59ab113ba7ce>\u001b[0m in \u001b[0;36m<listcomp>\u001b[1;34m(.0)\u001b[0m\n\u001b[0;32m     18\u001b[0m             \u001b[1;32mreturn\u001b[0m \u001b[0mself\u001b[0m\u001b[1;33m.\u001b[0m\u001b[0mds\u001b[0m\u001b[1;33m.\u001b[0m\u001b[0mtarget\u001b[0m\u001b[1;33m[\u001b[0m\u001b[0mdistances\u001b[0m\u001b[1;33m.\u001b[0m\u001b[0margmin\u001b[0m\u001b[1;33m(\u001b[0m\u001b[1;33m)\u001b[0m\u001b[1;33m]\u001b[0m\u001b[1;33m\u001b[0m\u001b[1;33m\u001b[0m\u001b[0m\n\u001b[0;32m     19\u001b[0m         \u001b[1;32melse\u001b[0m\u001b[1;33m:\u001b[0m\u001b[1;33m\u001b[0m\u001b[1;33m\u001b[0m\u001b[0m\n\u001b[1;32m---> 20\u001b[1;33m             \u001b[1;32mreturn\u001b[0m \u001b[0mnp\u001b[0m\u001b[1;33m.\u001b[0m\u001b[0marray\u001b[0m\u001b[1;33m(\u001b[0m\u001b[1;33m[\u001b[0m\u001b[0mself\u001b[0m\u001b[1;33m.\u001b[0m\u001b[0mpredict\u001b[0m\u001b[1;33m(\u001b[0m\u001b[0mex\u001b[0m\u001b[1;33m)\u001b[0m \u001b[1;32mfor\u001b[0m \u001b[0mex\u001b[0m \u001b[1;32min\u001b[0m \u001b[0munseen\u001b[0m\u001b[1;33m]\u001b[0m\u001b[1;33m)\u001b[0m\u001b[1;33m\u001b[0m\u001b[1;33m\u001b[0m\u001b[0m\n\u001b[0m",
      "\u001b[1;32m<ipython-input-68-59ab113ba7ce>\u001b[0m in \u001b[0;36mpredict\u001b[1;34m(self, unseen)\u001b[0m\n\u001b[0;32m     16\u001b[0m                 \u001b[0mdistances\u001b[0m\u001b[1;33m[\u001b[0m\u001b[0mi\u001b[0m\u001b[1;33m]\u001b[0m \u001b[1;33m=\u001b[0m \u001b[0mself\u001b[0m\u001b[1;33m.\u001b[0m\u001b[0mcalc_distance\u001b[0m\u001b[1;33m(\u001b[0m\u001b[0munseen\u001b[0m\u001b[1;33m,\u001b[0m \u001b[0mex\u001b[0m\u001b[1;33m)\u001b[0m\u001b[1;33m\u001b[0m\u001b[1;33m\u001b[0m\u001b[0m\n\u001b[0;32m     17\u001b[0m \u001b[1;33m\u001b[0m\u001b[0m\n\u001b[1;32m---> 18\u001b[1;33m             \u001b[1;32mreturn\u001b[0m \u001b[0mself\u001b[0m\u001b[1;33m.\u001b[0m\u001b[0mds\u001b[0m\u001b[1;33m.\u001b[0m\u001b[0mtarget\u001b[0m\u001b[1;33m[\u001b[0m\u001b[0mdistances\u001b[0m\u001b[1;33m.\u001b[0m\u001b[0margmin\u001b[0m\u001b[1;33m(\u001b[0m\u001b[1;33m)\u001b[0m\u001b[1;33m]\u001b[0m\u001b[1;33m\u001b[0m\u001b[1;33m\u001b[0m\u001b[0m\n\u001b[0m\u001b[0;32m     19\u001b[0m         \u001b[1;32melse\u001b[0m\u001b[1;33m:\u001b[0m\u001b[1;33m\u001b[0m\u001b[1;33m\u001b[0m\u001b[0m\n\u001b[0;32m     20\u001b[0m             \u001b[1;32mreturn\u001b[0m \u001b[0mnp\u001b[0m\u001b[1;33m.\u001b[0m\u001b[0marray\u001b[0m\u001b[1;33m(\u001b[0m\u001b[1;33m[\u001b[0m\u001b[0mself\u001b[0m\u001b[1;33m.\u001b[0m\u001b[0mpredict\u001b[0m\u001b[1;33m(\u001b[0m\u001b[0mex\u001b[0m\u001b[1;33m)\u001b[0m \u001b[1;32mfor\u001b[0m \u001b[0mex\u001b[0m \u001b[1;32min\u001b[0m \u001b[0munseen\u001b[0m\u001b[1;33m]\u001b[0m\u001b[1;33m)\u001b[0m\u001b[1;33m\u001b[0m\u001b[1;33m\u001b[0m\u001b[0m\n",
      "\u001b[1;31mKeyboardInterrupt\u001b[0m: "
     ]
    },
    {
     "data": {
      "image/png": "[encoded data removed]",
      "text/plain": [
       "<Figure size 1152x648 with 1 Axes>"
      ]
     },
     "metadata": {
      "needs_background": "light"
     },
     "output_type": "display_data"
    }
   ],
   "source": [
    "##%%timeit\n",
    "fig = plt.figure(figsize=(16,9))\n",
    "ax = fig.add_subplot(1,2,1)\n",
    "my.plot_decision_regions(train.inputs, train.target, nn, title=\"Training decision regions\", ax=ax)\n",
    "ax = fig.add_subplot(1,2,2)\n",
    "my.plot_decision_regions(test.inputs, test.target, nn, title=\"Test decision regions\", ax=ax)"
   ]
  },
  {
   "cell_type": "markdown",
   "metadata": {},
   "source": [
    "## A more efficient implementation\n",
    "The way class `NearestNeighborClassifier` calculated the distances can be improved by taking advantage of NumPy vectorization. Here is a shorter and improved version. **Do you see the difference?**"
   ]
  },
  {
   "cell_type": "code",
   "execution_count": 88,
   "metadata": {},
   "outputs": [],
   "source": [
    "class NearestNeighborClassifier:\n",
    "    def __init__(self, dataset):\n",
    "        self.ds = dataset\n",
    "    \n",
    "    def predict(self, unseen):\n",
    "        if unseen.ndim == 1:\n",
    "            distances = np.sqrt(np.sum((self.ds.inputs-unseen)**2, axis=1))\n",
    "\n",
    "            return self.ds.target[distances.argmin()]\n",
    "        else:\n",
    "            return np.array([self.predict(ex) for ex in unseen])"
   ]
  },
  {
   "cell_type": "markdown",
   "metadata": {},
   "source": [
    "Using the above example, to test this new class gives the following for the training set "
   ]
  },
  {
   "cell_type": "code",
   "execution_count": 89,
   "metadata": {},
   "outputs": [
    {
     "name": "stdout",
     "output_type": "stream",
     "text": [
      "   Actual  Predicted\n",
      "0     2.0        2.0\n",
      "1     1.0        1.0\n",
      "2     0.0        0.0\n",
      "3     0.0        0.0\n",
      "4     0.0        0.0\n",
      "5     0.0        0.0\n",
      "6     1.0        1.0\n",
      "7     1.0        1.0\n",
      "8     2.0        2.0\n",
      "9     0.0        0.0\n",
      "[[32  0  0]\n",
      " [ 0 34  0]\n",
      " [ 0  0 35]]\n",
      "Train accuracy:  1.0\n"
     ]
    }
   ],
   "source": [
    "nn = NearestNeighborClassifier(train)\n",
    "\n",
    "results = pd.DataFrame(columns=[\"Actual\", \"Predicted\"])\n",
    "\n",
    "results[\"Actual\"] = train.target.flatten()\n",
    "results[\"Predicted\"] = nn.predict(train.inputs)\n",
    "print(results.head(10))\n",
    "\n",
    "cm = my.confusion_matrix(train.target, nn.predict(train.inputs))\n",
    "accuracy = np.trace(cm) / np.sum(cm)\n",
    "\n",
    "print(cm)\n",
    "print('Train accuracy: ', accuracy)"
   ]
  },
  {
   "cell_type": "markdown",
   "metadata": {},
   "source": [
    "and the following for the test set:"
   ]
  },
  {
   "cell_type": "code",
   "execution_count": 90,
   "metadata": {
    "scrolled": true
   },
   "outputs": [
    {
     "name": "stdout",
     "output_type": "stream",
     "text": [
      "   Actual  Predicted\n",
      "0     0.0        0.0\n",
      "1     2.0        2.0\n",
      "2     0.0        0.0\n",
      "3     0.0        0.0\n",
      "4     1.0        1.0\n",
      "5     0.0        0.0\n",
      "6     0.0        0.0\n",
      "7     2.0        2.0\n",
      "8     0.0        0.0\n",
      "9     0.0        0.0\n",
      "[[18  0  0]\n",
      " [ 0 16  0]\n",
      " [ 1  1 13]]\n",
      "Test accuracy:  0.9591836734693877\n"
     ]
    }
   ],
   "source": [
    "results = pd.DataFrame(columns=[\"Actual\", \"Predicted\"])\n",
    "\n",
    "results[\"Actual\"] = test.target.flatten()\n",
    "results[\"Predicted\"] = nn.predict(test.inputs)\n",
    "print(results.head(10))\n",
    "\n",
    "cm = my.confusion_matrix(test.target, nn.predict(test.inputs))\n",
    "accuracy = np.trace(cm) / np.sum(cm)\n",
    "\n",
    "print(cm)\n",
    "print('Test accuracy: ', accuracy)"
   ]
  },
  {
   "cell_type": "markdown",
   "metadata": {},
   "source": [
    "This is no longer a perfect accuracy meaning that test error of $\\boldsymbol{E}_{test} > 0$.\n",
    "\n",
    "Here are again the decision regions of this trained model with both the training examples and the test examples side by side. **Uncomment the `%%timeit` command to see how long it takes to produce these plots using the improved NN classifier and compare that to the performance of the first implementation.**"
   ]
  },
  {
   "cell_type": "code",
   "execution_count": 95,
   "metadata": {
    "scrolled": false
   },
   "outputs": [
    {
     "data": {
      "image/png": "[encoded data removed]",
      "text/plain": [
       "<Figure size 1152x648 with 2 Axes>"
      ]
     },
     "metadata": {
      "needs_background": "light"
     },
     "output_type": "display_data"
    }
   ],
   "source": [
    "# %%timeit\n",
    "fig = plt.figure(figsize=(16,9))\n",
    "ax = fig.add_subplot(1,2,1)\n",
    "my.plot_decision_regions(train.inputs, train.target, nn, title=\"Training decision regions\", ax=ax)\n",
    "ax = fig.add_subplot(1,2,2)\n",
    "my.plot_decision_regions(test.inputs, test.target, nn, title=\"Test decision regions\", ax=ax)"
   ]
  },
  {
   "cell_type": "markdown",
   "metadata": {},
   "source": [
    "## CHALLENGE\n",
    "Write a function that takes a confusion matrix with more than two classes(such as the above `cm` matrix with 3 classes: `A`, `B`, and `C`) and a class index (such as 0, 1, or 2) and returns the sensitivity, specificity, precision, and $F_1$ metrics for the class of the given index given the confusion matrix. Test your function on the above confusion matrix `cm`.\n",
    "\n",
    "**HINT**: Convert the confusion matrix into a $2 \\times 2$ matrix representing the given class versus everything else."
   ]
  },
  {
   "cell_type": "code",
   "execution_count": 107,
   "metadata": {},
   "outputs": [],
   "source": [
    "def confusion_matrix_analysis(confusion_matrix, class_index):\n",
    "  '''\n",
    "  Function will return selected class as first row and col.\n",
    "  Second row and col will be all other indices\n",
    "  '''\n",
    "  # validate that confusion_matrix has row count == col count\n",
    "  if not all(len(cm)==len(r) for r in cm):\n",
    "    raise Exception('Rows and columns of matrix are not equal.')\n",
    "\n",
    "  # validate that class index is in range\n",
    "  if class_index >= len(confusion_matrix):\n",
    "    raise Exception(f'Class index {class_index} must be in range(0, {len(confusion_matrix)})')\n",
    "\n",
    "  # create new 2x2 confusion_matrix with class_index against all else\n",
    "  tp = confusion_matrix[class_index][class_index]\n",
    "  fp = sum([confusion_matrix[class_index][c]\n",
    "                  for c in range(len(confusion_matrix))\n",
    "                  if c != class_index])\n",
    "  fn = sum([confusion_matrix[r][class_index]\n",
    "                  for r in range(len(confusion_matrix))\n",
    "                  if r != class_index])\n",
    "  tn = sum([confusion_matrix[r][c]\n",
    "                  for r in range(len(confusion_matrix))\n",
    "                  for c in range(len(confusion_matrix))\n",
    "                  if c != class_index and r != class_index])\n",
    "  new_matrix = [[tp, fp], [fn, tn]]\n",
    "\n",
    "  # calculate sensitivity, specificity, precision, and F1 score\n",
    "  sensitivity = tp / (tp + fn)\n",
    "  specificity = tn / (tn + fp)\n",
    "  precision = tp / (tp + fp)\n",
    "  F1 = 2 * ((precision * sensitivity) / (precision + sensitivity))\n",
    "\n",
    "  return sensitivity, specificity, precision, F1"
   ]
  },
  {
   "cell_type": "code",
   "execution_count": 108,
   "metadata": {},
   "outputs": [
    {
     "name": "stdout",
     "output_type": "stream",
     "text": [
      "Confusion matrix: \n",
      "[[18  0  0]\n",
      " [ 0 16  0]\n",
      " [ 1  1 13]]\n",
      "\n",
      "Class: 0\n",
      "--------------------------------------------------\n",
      "\tSensitivity:        0.9473684210526315\n",
      "\tSpecificity:        1.0\n",
      "\tPrecision:          1.0\n",
      "\tF1:                 0.972972972972973\n",
      "Class: 1\n",
      "--------------------------------------------------\n",
      "\tSensitivity:        0.9411764705882353\n",
      "\tSpecificity:        1.0\n",
      "\tPrecision:          1.0\n",
      "\tF1:                 0.9696969696969697\n",
      "Class: 2\n",
      "--------------------------------------------------\n",
      "\tSensitivity:        1.0\n",
      "\tSpecificity:        0.9444444444444444\n",
      "\tPrecision:          0.8666666666666667\n",
      "\tF1:                 0.9285714285714286\n"
     ]
    }
   ],
   "source": [
    "print(f'Confusion matrix: \\n{cm}\\n')\n",
    "for c in range(len(cm)):\n",
    "    ss, sp, pr, f1 = confusion_matrix_analysis(cm, c)\n",
    "    print(f'Class: {c}\\n{\"-\"*50}\\n\\t{\"Sensitivity:\":<20}{ss}\\n\\t{\"Specificity:\":<20}{sp}\\n\\t{\"Precision:\":<20}{pr}\\n\\t{\"F1:\":<20}{f1}')"
   ]
  }
 ],
 "metadata": {
  "kernelspec": {
   "display_name": "Python 3",
   "language": "python",
   "name": "python3"
  },
  "language_info": {
   "codemirror_mode": {
    "name": "ipython",
    "version": 3
   },
   "file_extension": ".py",
   "mimetype": "text/x-python",
   "name": "python",
   "nbconvert_exporter": "python",
   "pygments_lexer": "ipython3",
   "version": "3.7.7"
  }
 },
 "nbformat": 4,
 "nbformat_minor": 4
}
